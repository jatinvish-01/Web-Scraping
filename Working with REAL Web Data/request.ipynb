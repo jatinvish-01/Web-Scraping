{
 "cells": [
  {
   "cell_type": "code",
   "execution_count": 1,
   "id": "966e5883",
   "metadata": {},
   "outputs": [],
   "source": [
    "import requests"
   ]
  },
  {
   "cell_type": "code",
   "execution_count": 2,
   "id": "defb2e90",
   "metadata": {},
   "outputs": [],
   "source": [
    "a = requests.get(\"https://books.toscrape.com/\")"
   ]
  },
  {
   "cell_type": "code",
   "execution_count": null,
   "id": "1d818bf9",
   "metadata": {},
   "outputs": [],
   "source": [
    "for i in range(1, 51):\n",
    "      a = requests.get(f\"https://books.toscrape.com/catalogue/page-{i}.html\")\n",
    "      with open (f\"Web HTML files/page{i}.html\", \"w\", encoding=\"latin1\") as f:\n",
    "            f.write(a.text)\n",
    "            print(f\"Download Page{i} Successfully\")"
   ]
  }
 ],
 "metadata": {
  "kernelspec": {
   "display_name": "base",
   "language": "python",
   "name": "python3"
  },
  "language_info": {
   "codemirror_mode": {
    "name": "ipython",
    "version": 3
   },
   "file_extension": ".py",
   "mimetype": "text/x-python",
   "name": "python",
   "nbconvert_exporter": "python",
   "pygments_lexer": "ipython3",
   "version": "3.12.7"
  }
 },
 "nbformat": 4,
 "nbformat_minor": 5
}
